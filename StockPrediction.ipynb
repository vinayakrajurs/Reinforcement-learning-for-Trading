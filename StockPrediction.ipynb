{
 "cells": [
  {
   "cell_type": "markdown",
   "id": "bde8b9a9",
   "metadata": {},
   "source": [
    "# Reinforcement Learning for Trading GameStop Stocks"
   ]
  },
  {
   "cell_type": "markdown",
   "id": "ccafbaf7",
   "metadata": {},
   "source": [
    "# 0. Installing and Importing dependencies"
   ]
  },
  {
   "cell_type": "code",
   "execution_count": 21,
   "id": "027b57f5",
   "metadata": {},
   "outputs": [],
   "source": [
    "#open AI gym libraries\n",
    "import gym\n",
    "import gym_anytrading"
   ]
  },
  {
   "cell_type": "code",
   "execution_count": 3,
   "id": "2a251ce1",
   "metadata": {
    "scrolled": true
   },
   "outputs": [
    {
     "name": "stdout",
     "output_type": "stream",
     "text": [
      "WARNING:tensorflow:\n",
      "The TensorFlow contrib module will not be included in TensorFlow 2.0.\n",
      "For more information, please see:\n",
      "  * https://github.com/tensorflow/community/blob/master/rfcs/20180907-contrib-sunset.md\n",
      "  * https://github.com/tensorflow/addons\n",
      "  * https://github.com/tensorflow/io (for I/O related ops)\n",
      "If you depend on functionality not listed there, please file an issue.\n",
      "\n"
     ]
    },
    {
     "name": "stderr",
     "output_type": "stream",
     "text": [
      "C:\\Users\\vinayak raj urs\\.conda\\envs\\tf\\lib\\site-packages\\stable_baselines\\__init__.py:33: UserWarning: stable-baselines is in maintenance mode, please use [Stable-Baselines3 (SB3)](https://github.com/DLR-RM/stable-baselines3) for an up-to-date version. You can find a [migration guide](https://stable-baselines3.readthedocs.io/en/master/guide/migration.html) in SB3 documentation.\n",
      "  \"stable-baselines is in maintenance mode, please use [Stable-Baselines3 (SB3)](https://github.com/DLR-RM/stable-baselines3) for an up-to-date version. You can find a [migration guide](https://stable-baselines3.readthedocs.io/en/master/guide/migration.html) in SB3 documentation.\"\n"
     ]
    }
   ],
   "source": [
    "from stable_baselines.common.vec_env import DummyVecEnv #vectoried wrapper that wraps the envi and sends it to stable baseine\n",
    "from stable_baselines import A2C # the algorithm used is A2C advantage aactor credit)\n",
    "# A2C algorithm combines two types of Reinforcement Learning algorithms, \n",
    "# 1. (Policy Based and Value Based) together, 2.Policy Based agents directly learn a policy (a probability distribution of actions) mapping input states to output actions"
   ]
  },
  {
   "cell_type": "code",
   "execution_count": 4,
   "id": "704ee24b",
   "metadata": {},
   "outputs": [],
   "source": [
    "# Processing libraries\n",
    "import numpy as np\n",
    "import pandas as pd\n",
    "from matplotlib import pyplot as plt"
   ]
  },
  {
   "cell_type": "markdown",
   "id": "7cfc1197",
   "metadata": {},
   "source": [
    "# 1. Importing the GME Data"
   ]
  },
  {
   "cell_type": "markdown",
   "id": "996f6323",
   "metadata": {},
   "source": [
    "https://www.marketwatch.com/investing/stock/gme/download-data?startDate=11/1/2019&endDate=03/12/2021"
   ]
  },
  {
   "cell_type": "code",
   "execution_count": 5,
   "id": "2fd1b17e",
   "metadata": {},
   "outputs": [],
   "source": [
    "#we have used daily GME stock data from 16th march 2020 to 15th march 2021\n",
    "df = pd.read_csv('stocksnew.csv') #using pandas to read the csv file "
   ]
  },
  {
   "cell_type": "code",
   "execution_count": 6,
   "id": "8e8face6",
   "metadata": {},
   "outputs": [
    {
     "data": {
      "text/html": [
       "<div>\n",
       "<style scoped>\n",
       "    .dataframe tbody tr th:only-of-type {\n",
       "        vertical-align: middle;\n",
       "    }\n",
       "\n",
       "    .dataframe tbody tr th {\n",
       "        vertical-align: top;\n",
       "    }\n",
       "\n",
       "    .dataframe thead th {\n",
       "        text-align: right;\n",
       "    }\n",
       "</style>\n",
       "<table border=\"1\" class=\"dataframe\">\n",
       "  <thead>\n",
       "    <tr style=\"text-align: right;\">\n",
       "      <th></th>\n",
       "      <th>Date</th>\n",
       "      <th>Open</th>\n",
       "      <th>High</th>\n",
       "      <th>Low</th>\n",
       "      <th>Close</th>\n",
       "      <th>Volume</th>\n",
       "    </tr>\n",
       "  </thead>\n",
       "  <tbody>\n",
       "    <tr>\n",
       "      <th>0</th>\n",
       "      <td>03/15/2021</td>\n",
       "      <td>277.52</td>\n",
       "      <td>283.00</td>\n",
       "      <td>206.00</td>\n",
       "      <td>220.14</td>\n",
       "      <td>24,226,189</td>\n",
       "    </tr>\n",
       "    <tr>\n",
       "      <th>1</th>\n",
       "      <td>03/12/2021</td>\n",
       "      <td>275.00</td>\n",
       "      <td>295.50</td>\n",
       "      <td>262.27</td>\n",
       "      <td>264.50</td>\n",
       "      <td>25,845,900</td>\n",
       "    </tr>\n",
       "    <tr>\n",
       "      <th>2</th>\n",
       "      <td>03/11/2021</td>\n",
       "      <td>241.64</td>\n",
       "      <td>281.50</td>\n",
       "      <td>232.60</td>\n",
       "      <td>260.00</td>\n",
       "      <td>28,312,490</td>\n",
       "    </tr>\n",
       "    <tr>\n",
       "      <th>3</th>\n",
       "      <td>03/10/2021</td>\n",
       "      <td>269.43</td>\n",
       "      <td>348.50</td>\n",
       "      <td>172.00</td>\n",
       "      <td>265.00</td>\n",
       "      <td>71,570,570</td>\n",
       "    </tr>\n",
       "    <tr>\n",
       "      <th>4</th>\n",
       "      <td>03/09/2021</td>\n",
       "      <td>217.71</td>\n",
       "      <td>249.85</td>\n",
       "      <td>208.51</td>\n",
       "      <td>246.90</td>\n",
       "      <td>39,099,328</td>\n",
       "    </tr>\n",
       "  </tbody>\n",
       "</table>\n",
       "</div>"
      ],
      "text/plain": [
       "         Date    Open    High     Low   Close      Volume\n",
       "0  03/15/2021  277.52  283.00  206.00  220.14  24,226,189\n",
       "1  03/12/2021  275.00  295.50  262.27  264.50  25,845,900\n",
       "2  03/11/2021  241.64  281.50  232.60  260.00  28,312,490\n",
       "3  03/10/2021  269.43  348.50  172.00  265.00  71,570,570\n",
       "4  03/09/2021  217.71  249.85  208.51  246.90  39,099,328"
      ]
     },
     "execution_count": 6,
     "metadata": {},
     "output_type": "execute_result"
    }
   ],
   "source": [
    "df.head() #display the csv file"
   ]
  },
  {
   "cell_type": "code",
   "execution_count": 7,
   "id": "1f8faa19",
   "metadata": {},
   "outputs": [
    {
     "data": {
      "text/plain": [
       "Date      datetime64[ns]\n",
       "Open             float64\n",
       "High             float64\n",
       "Low              float64\n",
       "Close            float64\n",
       "Volume            object\n",
       "dtype: object"
      ]
     },
     "execution_count": 7,
     "metadata": {},
     "output_type": "execute_result"
    }
   ],
   "source": [
    "df['Date'] = pd.to_datetime(df['Date']) #in order to pass the data into gym any_trading environment, the existing date format should be in date time type coloumn\n",
    "df.dtypes #display the type format "
   ]
  },
  {
   "cell_type": "code",
   "execution_count": 8,
   "id": "76f1bc34",
   "metadata": {},
   "outputs": [
    {
     "data": {
      "text/html": [
       "<div>\n",
       "<style scoped>\n",
       "    .dataframe tbody tr th:only-of-type {\n",
       "        vertical-align: middle;\n",
       "    }\n",
       "\n",
       "    .dataframe tbody tr th {\n",
       "        vertical-align: top;\n",
       "    }\n",
       "\n",
       "    .dataframe thead th {\n",
       "        text-align: right;\n",
       "    }\n",
       "</style>\n",
       "<table border=\"1\" class=\"dataframe\">\n",
       "  <thead>\n",
       "    <tr style=\"text-align: right;\">\n",
       "      <th></th>\n",
       "      <th>Open</th>\n",
       "      <th>High</th>\n",
       "      <th>Low</th>\n",
       "      <th>Close</th>\n",
       "      <th>Volume</th>\n",
       "    </tr>\n",
       "    <tr>\n",
       "      <th>Date</th>\n",
       "      <th></th>\n",
       "      <th></th>\n",
       "      <th></th>\n",
       "      <th></th>\n",
       "      <th></th>\n",
       "    </tr>\n",
       "  </thead>\n",
       "  <tbody>\n",
       "    <tr>\n",
       "      <th>2021-03-15</th>\n",
       "      <td>277.52</td>\n",
       "      <td>283.00</td>\n",
       "      <td>206.00</td>\n",
       "      <td>220.14</td>\n",
       "      <td>24,226,189</td>\n",
       "    </tr>\n",
       "    <tr>\n",
       "      <th>2021-03-12</th>\n",
       "      <td>275.00</td>\n",
       "      <td>295.50</td>\n",
       "      <td>262.27</td>\n",
       "      <td>264.50</td>\n",
       "      <td>25,845,900</td>\n",
       "    </tr>\n",
       "    <tr>\n",
       "      <th>2021-03-11</th>\n",
       "      <td>241.64</td>\n",
       "      <td>281.50</td>\n",
       "      <td>232.60</td>\n",
       "      <td>260.00</td>\n",
       "      <td>28,312,490</td>\n",
       "    </tr>\n",
       "    <tr>\n",
       "      <th>2021-03-10</th>\n",
       "      <td>269.43</td>\n",
       "      <td>348.50</td>\n",
       "      <td>172.00</td>\n",
       "      <td>265.00</td>\n",
       "      <td>71,570,570</td>\n",
       "    </tr>\n",
       "    <tr>\n",
       "      <th>2021-03-09</th>\n",
       "      <td>217.71</td>\n",
       "      <td>249.85</td>\n",
       "      <td>208.51</td>\n",
       "      <td>246.90</td>\n",
       "      <td>39,099,328</td>\n",
       "    </tr>\n",
       "  </tbody>\n",
       "</table>\n",
       "</div>"
      ],
      "text/plain": [
       "              Open    High     Low   Close      Volume\n",
       "Date                                                  \n",
       "2021-03-15  277.52  283.00  206.00  220.14  24,226,189\n",
       "2021-03-12  275.00  295.50  262.27  264.50  25,845,900\n",
       "2021-03-11  241.64  281.50  232.60  260.00  28,312,490\n",
       "2021-03-10  269.43  348.50  172.00  265.00  71,570,570\n",
       "2021-03-09  217.71  249.85  208.51  246.90  39,099,328"
      ]
     },
     "execution_count": 8,
     "metadata": {},
     "output_type": "execute_result"
    }
   ],
   "source": [
    "df.set_index('Date', inplace=True) #set it as one index and true implies we are updating our current data frame instead of just copying it\n",
    "df.head() #display"
   ]
  },
  {
   "cell_type": "code",
   "execution_count": 9,
   "id": "f3c25f07",
   "metadata": {},
   "outputs": [],
   "source": [
    "#environment is created\n",
    "env = gym.make('stocks-v0', df=df, frame_bound=(5,100), window_size=5) #frame bound represents what portion of data we want to be inlcuded in our environment\n",
    "# starting from 5th time step to 100th time step\n",
    "#window size=5 represents the amount of previous time steps to be included for training bot as reference data when it goes and makes its next trade"
   ]
  },
  {
   "cell_type": "code",
   "execution_count": 10,
   "id": "76711003",
   "metadata": {},
   "outputs": [
    {
     "data": {
      "text/plain": [
       "array([220.14, 264.5 , 260.  , 265.  , 246.9 , 194.5 , 137.74, 132.35,\n",
       "       124.18, 118.18, 120.4 , 101.74, 108.73,  91.71,  44.97,  46.  ,\n",
       "        40.59,  40.69,  45.94,  49.51,  52.4 ,  51.1 ,  51.2 ,  50.31,\n",
       "        60.  ,  63.77,  53.5 ,  92.41,  90.  , 225.  , 325.  , 193.6 ,\n",
       "       347.51, 147.98,  76.79,  65.01,  43.03,  39.12,  39.36,  35.5 ,\n",
       "        39.91,  31.4 ,  19.95,  19.94,  17.69,  18.08,  18.36,  17.37,\n",
       "        17.25,  18.84,  19.26,  19.38,  20.99,  20.15,  20.57,  19.46,\n",
       "        15.53,  15.63,  14.83,  13.85,  13.85,  12.72,  13.31,  14.12,\n",
       "        13.66,  16.94,  16.35,  16.9 ,  16.12,  16.58,  15.8 ,  16.56,\n",
       "        16.08,  14.75,  13.67,  13.9 ,  12.71,  12.46,  11.57,  11.63,\n",
       "        12.06,  11.01,  11.13,  11.75,  11.1 ,  11.49,  11.86,  11.45,\n",
       "        10.91,  11.57,  10.75,  10.47,  11.73,  11.82,  12.69,  13.45,\n",
       "        15.  ,  14.91,  14.1 ,  13.86])"
      ]
     },
     "execution_count": 10,
     "metadata": {},
     "output_type": "execute_result"
    }
   ],
   "source": [
    "env.prices #display the price"
   ]
  },
  {
   "cell_type": "code",
   "execution_count": 11,
   "id": "796d1cac",
   "metadata": {},
   "outputs": [
    {
     "data": {
      "text/plain": [
       "array([[ 2.2014e+02,  0.0000e+00],\n",
       "       [ 2.6450e+02,  4.4360e+01],\n",
       "       [ 2.6000e+02, -4.5000e+00],\n",
       "       [ 2.6500e+02,  5.0000e+00],\n",
       "       [ 2.4690e+02, -1.8100e+01],\n",
       "       [ 1.9450e+02, -5.2400e+01],\n",
       "       [ 1.3774e+02, -5.6760e+01],\n",
       "       [ 1.3235e+02, -5.3900e+00],\n",
       "       [ 1.2418e+02, -8.1700e+00],\n",
       "       [ 1.1818e+02, -6.0000e+00],\n",
       "       [ 1.2040e+02,  2.2200e+00],\n",
       "       [ 1.0174e+02, -1.8660e+01],\n",
       "       [ 1.0873e+02,  6.9900e+00],\n",
       "       [ 9.1710e+01, -1.7020e+01],\n",
       "       [ 4.4970e+01, -4.6740e+01],\n",
       "       [ 4.6000e+01,  1.0300e+00],\n",
       "       [ 4.0590e+01, -5.4100e+00],\n",
       "       [ 4.0690e+01,  1.0000e-01],\n",
       "       [ 4.5940e+01,  5.2500e+00],\n",
       "       [ 4.9510e+01,  3.5700e+00],\n",
       "       [ 5.2400e+01,  2.8900e+00],\n",
       "       [ 5.1100e+01, -1.3000e+00],\n",
       "       [ 5.1200e+01,  1.0000e-01],\n",
       "       [ 5.0310e+01, -8.9000e-01],\n",
       "       [ 6.0000e+01,  9.6900e+00],\n",
       "       [ 6.3770e+01,  3.7700e+00],\n",
       "       [ 5.3500e+01, -1.0270e+01],\n",
       "       [ 9.2410e+01,  3.8910e+01],\n",
       "       [ 9.0000e+01, -2.4100e+00],\n",
       "       [ 2.2500e+02,  1.3500e+02],\n",
       "       [ 3.2500e+02,  1.0000e+02],\n",
       "       [ 1.9360e+02, -1.3140e+02],\n",
       "       [ 3.4751e+02,  1.5391e+02],\n",
       "       [ 1.4798e+02, -1.9953e+02],\n",
       "       [ 7.6790e+01, -7.1190e+01],\n",
       "       [ 6.5010e+01, -1.1780e+01],\n",
       "       [ 4.3030e+01, -2.1980e+01],\n",
       "       [ 3.9120e+01, -3.9100e+00],\n",
       "       [ 3.9360e+01,  2.4000e-01],\n",
       "       [ 3.5500e+01, -3.8600e+00],\n",
       "       [ 3.9910e+01,  4.4100e+00],\n",
       "       [ 3.1400e+01, -8.5100e+00],\n",
       "       [ 1.9950e+01, -1.1450e+01],\n",
       "       [ 1.9940e+01, -1.0000e-02],\n",
       "       [ 1.7690e+01, -2.2500e+00],\n",
       "       [ 1.8080e+01,  3.9000e-01],\n",
       "       [ 1.8360e+01,  2.8000e-01],\n",
       "       [ 1.7370e+01, -9.9000e-01],\n",
       "       [ 1.7250e+01, -1.2000e-01],\n",
       "       [ 1.8840e+01,  1.5900e+00],\n",
       "       [ 1.9260e+01,  4.2000e-01],\n",
       "       [ 1.9380e+01,  1.2000e-01],\n",
       "       [ 2.0990e+01,  1.6100e+00],\n",
       "       [ 2.0150e+01, -8.4000e-01],\n",
       "       [ 2.0570e+01,  4.2000e-01],\n",
       "       [ 1.9460e+01, -1.1100e+00],\n",
       "       [ 1.5530e+01, -3.9300e+00],\n",
       "       [ 1.5630e+01,  1.0000e-01],\n",
       "       [ 1.4830e+01, -8.0000e-01],\n",
       "       [ 1.3850e+01, -9.8000e-01],\n",
       "       [ 1.3850e+01,  0.0000e+00],\n",
       "       [ 1.2720e+01, -1.1300e+00],\n",
       "       [ 1.3310e+01,  5.9000e-01],\n",
       "       [ 1.4120e+01,  8.1000e-01],\n",
       "       [ 1.3660e+01, -4.6000e-01],\n",
       "       [ 1.6940e+01,  3.2800e+00],\n",
       "       [ 1.6350e+01, -5.9000e-01],\n",
       "       [ 1.6900e+01,  5.5000e-01],\n",
       "       [ 1.6120e+01, -7.8000e-01],\n",
       "       [ 1.6580e+01,  4.6000e-01],\n",
       "       [ 1.5800e+01, -7.8000e-01],\n",
       "       [ 1.6560e+01,  7.6000e-01],\n",
       "       [ 1.6080e+01, -4.8000e-01],\n",
       "       [ 1.4750e+01, -1.3300e+00],\n",
       "       [ 1.3670e+01, -1.0800e+00],\n",
       "       [ 1.3900e+01,  2.3000e-01],\n",
       "       [ 1.2710e+01, -1.1900e+00],\n",
       "       [ 1.2460e+01, -2.5000e-01],\n",
       "       [ 1.1570e+01, -8.9000e-01],\n",
       "       [ 1.1630e+01,  6.0000e-02],\n",
       "       [ 1.2060e+01,  4.3000e-01],\n",
       "       [ 1.1010e+01, -1.0500e+00],\n",
       "       [ 1.1130e+01,  1.2000e-01],\n",
       "       [ 1.1750e+01,  6.2000e-01],\n",
       "       [ 1.1100e+01, -6.5000e-01],\n",
       "       [ 1.1490e+01,  3.9000e-01],\n",
       "       [ 1.1860e+01,  3.7000e-01],\n",
       "       [ 1.1450e+01, -4.1000e-01],\n",
       "       [ 1.0910e+01, -5.4000e-01],\n",
       "       [ 1.1570e+01,  6.6000e-01],\n",
       "       [ 1.0750e+01, -8.2000e-01],\n",
       "       [ 1.0470e+01, -2.8000e-01],\n",
       "       [ 1.1730e+01,  1.2600e+00],\n",
       "       [ 1.1820e+01,  9.0000e-02],\n",
       "       [ 1.2690e+01,  8.7000e-01],\n",
       "       [ 1.3450e+01,  7.6000e-01],\n",
       "       [ 1.5000e+01,  1.5500e+00],\n",
       "       [ 1.4910e+01, -9.0000e-02],\n",
       "       [ 1.4100e+01, -8.1000e-01],\n",
       "       [ 1.3860e+01, -2.4000e-01]])"
      ]
     },
     "execution_count": 11,
     "metadata": {},
     "output_type": "execute_result"
    }
   ],
   "source": [
    "env.signal_features #array represents ([price,change in price])"
   ]
  },
  {
   "cell_type": "markdown",
   "id": "d85f8472",
   "metadata": {},
   "source": [
    "# 2. Building the Environment"
   ]
  },
  {
   "cell_type": "code",
   "execution_count": 12,
   "id": "f90fe4b8",
   "metadata": {},
   "outputs": [
    {
     "data": {
      "text/plain": [
       "Discrete(2)"
      ]
     },
     "execution_count": 12,
     "metadata": {},
     "output_type": "execute_result"
    }
   ],
   "source": [
    "env.action_space # there are 2 action space in guym any_trading 1. BUY and 2. SELL "
   ]
  },
  {
   "cell_type": "code",
   "execution_count": 13,
   "id": "180d5750",
   "metadata": {},
   "outputs": [
    {
     "name": "stdout",
     "output_type": "stream",
     "text": [
      "info {'total_reward': 49.38999999999999, 'total_profit': 0.42322248148320835, 'position': 0}\n"
     ]
    },
    {
     "data": {
      "image/png": "[encoded data removed]",
      "text/plain": [
       "<Figure size 1080x432 with 1 Axes>"
      ]
     },
     "metadata": {
      "needs_background": "light"
     },
     "output_type": "display_data"
    }
   ],
   "source": [
    "#instead of training we will take RANDOM actions to observe\n",
    "#\n",
    "\n",
    "\n",
    "state = env.reset() #allows to get our initial state\n",
    "while True: # we are looping through eaach step and taking random actions\n",
    "    action = env.action_space.sample() # .sample will take a random action and we are gonna save that action \n",
    "    n_state, reward, done, info = env.step(action) #saving that ramdom action and applying it to our environment\n",
    "    if done: # when done break the loop and display the info\n",
    "        print(\"info\", info)\n",
    "        break\n",
    "        \n",
    "plt.figure(figsize=(15,6)) #setting the frame size and displaying the result\n",
    "plt.cla()\n",
    "env.render_all() # render all the different trades into a plot\n",
    "plt.show() # red dots are shorts and green dots are going long"
   ]
  },
  {
   "cell_type": "markdown",
   "id": "7e030149",
   "metadata": {},
   "source": [
    "# 3. Build Environment and Train"
   ]
  },
  {
   "cell_type": "code",
   "execution_count": 25,
   "id": "b146aab5",
   "metadata": {},
   "outputs": [],
   "source": [
    "# making our environment to train it using A2C algorithm \n",
    "env_maker = lambda: gym.make('stocks-v0', df=df, frame_bound=(5,100), window_size=5) # lambda function is going to loop and create multiple environment if we need to\n",
    "env = DummyVecEnv([env_maker]) #wrap our environment into a vectorised dummy environment to send it to stable_baseline "
   ]
  },
  {
   "cell_type": "code",
   "execution_count": 26,
   "id": "333cdb3b",
   "metadata": {},
   "outputs": [
    {
     "name": "stdout",
     "output_type": "stream",
     "text": [
      "---------------------------------\n",
      "| explained_variance | 0.00179  |\n",
      "| fps                | 13       |\n",
      "| nupdates           | 1        |\n",
      "| policy_entropy     | 0.686    |\n",
      "| total_timesteps    | 5        |\n",
      "| value_loss         | 108      |\n",
      "---------------------------------\n",
      "---------------------------------\n",
      "| explained_variance | -0.00028 |\n",
      "| fps                | 377      |\n",
      "| nupdates           | 100      |\n",
      "| policy_entropy     | 0.689    |\n",
      "| total_timesteps    | 500      |\n",
      "| value_loss         | 5.94e+03 |\n",
      "---------------------------------\n",
      "---------------------------------\n",
      "| explained_variance | 0.0266   |\n",
      "| fps                | 401      |\n",
      "| nupdates           | 200      |\n",
      "| policy_entropy     | 0.681    |\n",
      "| total_timesteps    | 1000     |\n",
      "| value_loss         | 0.0881   |\n",
      "---------------------------------\n",
      "---------------------------------\n",
      "| explained_variance | -0.00495 |\n",
      "| fps                | 366      |\n",
      "| nupdates           | 300      |\n",
      "| policy_entropy     | 0.68     |\n",
      "| total_timesteps    | 1500     |\n",
      "| value_loss         | 0.00318  |\n",
      "---------------------------------\n",
      "---------------------------------\n",
      "| explained_variance | -58.5    |\n",
      "| fps                | 299      |\n",
      "| nupdates           | 400      |\n",
      "| policy_entropy     | 0.68     |\n",
      "| total_timesteps    | 2000     |\n",
      "| value_loss         | 0.000187 |\n",
      "---------------------------------\n",
      "---------------------------------\n",
      "| explained_variance | -0.331   |\n",
      "| fps                | 273      |\n",
      "| nupdates           | 500      |\n",
      "| policy_entropy     | 0.676    |\n",
      "| total_timesteps    | 2500     |\n",
      "| value_loss         | 0.00395  |\n",
      "---------------------------------\n",
      "---------------------------------\n",
      "| explained_variance | 0.00721  |\n",
      "| fps                | 258      |\n",
      "| nupdates           | 600      |\n",
      "| policy_entropy     | 0.675    |\n",
      "| total_timesteps    | 3000     |\n",
      "| value_loss         | 0.491    |\n",
      "---------------------------------\n",
      "---------------------------------\n",
      "| explained_variance | -0.0115  |\n",
      "| fps                | 251      |\n",
      "| nupdates           | 700      |\n",
      "| policy_entropy     | 0.625    |\n",
      "| total_timesteps    | 3500     |\n",
      "| value_loss         | 0.149    |\n",
      "---------------------------------\n",
      "---------------------------------\n",
      "| explained_variance | 0.264    |\n",
      "| fps                | 245      |\n",
      "| nupdates           | 800      |\n",
      "| policy_entropy     | 0.556    |\n",
      "| total_timesteps    | 4000     |\n",
      "| value_loss         | 0.00258  |\n",
      "---------------------------------\n",
      "---------------------------------\n",
      "| explained_variance | -1.55    |\n",
      "| fps                | 241      |\n",
      "| nupdates           | 900      |\n",
      "| policy_entropy     | 0.392    |\n",
      "| total_timesteps    | 4500     |\n",
      "| value_loss         | 0.00305  |\n",
      "---------------------------------\n",
      "---------------------------------\n",
      "| explained_variance | -143     |\n",
      "| fps                | 237      |\n",
      "| nupdates           | 1000     |\n",
      "| policy_entropy     | 0.237    |\n",
      "| total_timesteps    | 5000     |\n",
      "| value_loss         | 0.0214   |\n",
      "---------------------------------\n",
      "----------------------------------\n",
      "| explained_variance | -6.08e+04 |\n",
      "| fps                | 233       |\n",
      "| nupdates           | 1100      |\n",
      "| policy_entropy     | 0.0602    |\n",
      "| total_timesteps    | 5500      |\n",
      "| value_loss         | 0.0031    |\n",
      "----------------------------------\n",
      "---------------------------------\n",
      "| explained_variance | -1e+03   |\n",
      "| fps                | 231      |\n",
      "| nupdates           | 1200     |\n",
      "| policy_entropy     | 0.0363   |\n",
      "| total_timesteps    | 6000     |\n",
      "| value_loss         | 6.25e-05 |\n",
      "---------------------------------\n",
      "----------------------------------\n",
      "| explained_variance | -4.33e+03 |\n",
      "| fps                | 229       |\n",
      "| nupdates           | 1300      |\n",
      "| policy_entropy     | 0.045     |\n",
      "| total_timesteps    | 6500      |\n",
      "| value_loss         | 0.00399   |\n",
      "----------------------------------\n",
      "----------------------------------\n",
      "| explained_variance | -1.14e+06 |\n",
      "| fps                | 227       |\n",
      "| nupdates           | 1400      |\n",
      "| policy_entropy     | 0.0597    |\n",
      "| total_timesteps    | 7000      |\n",
      "| value_loss         | 0.000864  |\n",
      "----------------------------------\n",
      "---------------------------------\n",
      "| explained_variance | -423     |\n",
      "| fps                | 224      |\n",
      "| nupdates           | 1500     |\n",
      "| policy_entropy     | 0.0159   |\n",
      "| total_timesteps    | 7500     |\n",
      "| value_loss         | 3.87e-05 |\n",
      "---------------------------------\n",
      "---------------------------------\n",
      "| explained_variance | -65.7    |\n",
      "| fps                | 222      |\n",
      "| nupdates           | 1600     |\n",
      "| policy_entropy     | 0.0305   |\n",
      "| total_timesteps    | 8000     |\n",
      "| value_loss         | 0.000109 |\n",
      "---------------------------------\n",
      "----------------------------------\n",
      "| explained_variance | -2.71e+03 |\n",
      "| fps                | 222       |\n",
      "| nupdates           | 1700      |\n",
      "| policy_entropy     | 0.0381    |\n",
      "| total_timesteps    | 8500      |\n",
      "| value_loss         | 9.77e-05  |\n",
      "----------------------------------\n",
      "---------------------------------\n",
      "| explained_variance | -34.9    |\n",
      "| fps                | 223      |\n",
      "| nupdates           | 1800     |\n",
      "| policy_entropy     | 0.0277   |\n",
      "| total_timesteps    | 9000     |\n",
      "| value_loss         | 6.54e-05 |\n",
      "---------------------------------\n",
      "---------------------------------\n",
      "| explained_variance | 0.0127   |\n",
      "| fps                | 222      |\n",
      "| nupdates           | 1900     |\n",
      "| policy_entropy     | 0.0857   |\n",
      "| total_timesteps    | 9500     |\n",
      "| value_loss         | 26.1     |\n",
      "---------------------------------\n",
      "----------------------------------\n",
      "| explained_variance | -3.35e+03 |\n",
      "| fps                | 221       |\n",
      "| nupdates           | 2000      |\n",
      "| policy_entropy     | 0.0536    |\n",
      "| total_timesteps    | 10000     |\n",
      "| value_loss         | 0.000203  |\n",
      "----------------------------------\n",
      "---------------------------------\n",
      "| explained_variance | -274     |\n",
      "| fps                | 221      |\n",
      "| nupdates           | 2100     |\n",
      "| policy_entropy     | 0.0203   |\n",
      "| total_timesteps    | 10500    |\n",
      "| value_loss         | 2.36e-05 |\n",
      "---------------------------------\n",
      "---------------------------------\n",
      "| explained_variance | -21.9    |\n",
      "| fps                | 220      |\n",
      "| nupdates           | 2200     |\n",
      "| policy_entropy     | 0.236    |\n",
      "| total_timesteps    | 11000    |\n",
      "| value_loss         | 0.00774  |\n",
      "---------------------------------\n",
      "---------------------------------\n",
      "| explained_variance | -228     |\n",
      "| fps                | 219      |\n",
      "| nupdates           | 2300     |\n",
      "| policy_entropy     | 0.286    |\n",
      "| total_timesteps    | 11500    |\n",
      "| value_loss         | 0.000416 |\n",
      "---------------------------------\n",
      "---------------------------------\n",
      "| explained_variance | -54.3    |\n",
      "| fps                | 219      |\n",
      "| nupdates           | 2400     |\n",
      "| policy_entropy     | 0.0639   |\n",
      "| total_timesteps    | 12000    |\n",
      "| value_loss         | 0.00111  |\n",
      "---------------------------------\n",
      "---------------------------------\n",
      "| explained_variance | 0.0142   |\n",
      "| fps                | 218      |\n",
      "| nupdates           | 2500     |\n",
      "| policy_entropy     | 0.221    |\n",
      "| total_timesteps    | 12500    |\n",
      "| value_loss         | 1.88     |\n",
      "---------------------------------\n",
      "---------------------------------\n",
      "| explained_variance | -0.00104 |\n",
      "| fps                | 217      |\n",
      "| nupdates           | 2600     |\n",
      "| policy_entropy     | 0.426    |\n",
      "| total_timesteps    | 13000    |\n",
      "| value_loss         | 1.39e+04 |\n",
      "---------------------------------\n",
      "---------------------------------\n",
      "| explained_variance | -1.57    |\n",
      "| fps                | 216      |\n",
      "| nupdates           | 2700     |\n",
      "| policy_entropy     | 0.00697  |\n",
      "| total_timesteps    | 13500    |\n",
      "| value_loss         | 0.000368 |\n",
      "---------------------------------\n",
      "---------------------------------\n",
      "| explained_variance | -3.55    |\n",
      "| fps                | 216      |\n",
      "| nupdates           | 2800     |\n",
      "| policy_entropy     | 0.00372  |\n",
      "| total_timesteps    | 14000    |\n",
      "| value_loss         | 5.59e-05 |\n",
      "---------------------------------\n",
      "---------------------------------\n",
      "| explained_variance | -115     |\n",
      "| fps                | 215      |\n",
      "| nupdates           | 2900     |\n",
      "| policy_entropy     | 0.00978  |\n",
      "| total_timesteps    | 14500    |\n",
      "| value_loss         | 0.113    |\n",
      "---------------------------------\n",
      "---------------------------------\n",
      "| explained_variance | -2.34    |\n",
      "| fps                | 215      |\n",
      "| nupdates           | 3000     |\n",
      "| policy_entropy     | 0.00552  |\n",
      "| total_timesteps    | 15000    |\n",
      "| value_loss         | 0.0012   |\n",
      "---------------------------------\n",
      "---------------------------------\n",
      "| explained_variance | -0.171   |\n",
      "| fps                | 215      |\n",
      "| nupdates           | 3100     |\n",
      "| policy_entropy     | 0.00299  |\n",
      "| total_timesteps    | 15500    |\n",
      "| value_loss         | 0.00166  |\n",
      "---------------------------------\n",
      "---------------------------------\n",
      "| explained_variance | -3.11    |\n",
      "| fps                | 215      |\n",
      "| nupdates           | 3200     |\n",
      "| policy_entropy     | 0.00331  |\n",
      "| total_timesteps    | 16000    |\n",
      "| value_loss         | 0.000607 |\n",
      "---------------------------------\n",
      "---------------------------------\n",
      "| explained_variance | 0.709    |\n",
      "| fps                | 215      |\n",
      "| nupdates           | 3300     |\n",
      "| policy_entropy     | 0.00303  |\n",
      "| total_timesteps    | 16500    |\n",
      "| value_loss         | 0.000803 |\n",
      "---------------------------------\n"
     ]
    },
    {
     "ename": "KeyboardInterrupt",
     "evalue": "",
     "output_type": "error",
     "traceback": [
      "\u001b[1;31m---------------------------------------------------------------------------\u001b[0m",
      "\u001b[1;31mKeyboardInterrupt\u001b[0m                         Traceback (most recent call last)",
      "\u001b[1;32mC:\\Users\\VINAYA~1\\AppData\\Local\\Temp/ipykernel_30756/3046065563.py\u001b[0m in \u001b[0;36m<module>\u001b[1;34m\u001b[0m\n\u001b[0;32m      4\u001b[0m \u001b[1;33m\u001b[0m\u001b[0m\n\u001b[0;32m      5\u001b[0m \u001b[0mmodel\u001b[0m \u001b[1;33m=\u001b[0m \u001b[0mA2C\u001b[0m\u001b[1;33m(\u001b[0m\u001b[1;34m'MlpLstmPolicy'\u001b[0m\u001b[1;33m,\u001b[0m \u001b[0menv\u001b[0m\u001b[1;33m,\u001b[0m \u001b[0mverbose\u001b[0m\u001b[1;33m=\u001b[0m\u001b[1;36m1\u001b[0m\u001b[1;33m)\u001b[0m \u001b[1;31m# then passing through the policy, in this case we are using a multi layer perceptron LSTM policy\u001b[0m\u001b[1;33m\u001b[0m\u001b[1;33m\u001b[0m\u001b[0m\n\u001b[1;32m----> 6\u001b[1;33m \u001b[0mmodel\u001b[0m\u001b[1;33m.\u001b[0m\u001b[0mlearn\u001b[0m\u001b[1;33m(\u001b[0m\u001b[0mtotal_timesteps\u001b[0m\u001b[1;33m=\u001b[0m\u001b[1;36m1000000\u001b[0m\u001b[1;33m)\u001b[0m \u001b[1;31m#start training\u001b[0m\u001b[1;33m\u001b[0m\u001b[1;33m\u001b[0m\u001b[0m\n\u001b[0m\u001b[0;32m      7\u001b[0m \u001b[1;33m\u001b[0m\u001b[0m\n\u001b[0;32m      8\u001b[0m \u001b[1;31m# explained varience value should be high (btw 0 and 1), means that model began to learn about all the diff varience in the data set and is now learning the pattern\u001b[0m\u001b[1;33m\u001b[0m\u001b[1;33m\u001b[0m\u001b[1;33m\u001b[0m\u001b[0m\n",
      "\u001b[1;32m~\\.conda\\envs\\tf\\lib\\site-packages\\stable_baselines\\a2c\\a2c.py\u001b[0m in \u001b[0;36mlearn\u001b[1;34m(self, total_timesteps, callback, log_interval, tb_log_name, reset_num_timesteps)\u001b[0m\n\u001b[0;32m    261\u001b[0m                 \u001b[0mcallback\u001b[0m\u001b[1;33m.\u001b[0m\u001b[0mon_rollout_start\u001b[0m\u001b[1;33m(\u001b[0m\u001b[1;33m)\u001b[0m\u001b[1;33m\u001b[0m\u001b[1;33m\u001b[0m\u001b[0m\n\u001b[0;32m    262\u001b[0m                 \u001b[1;31m# true_reward is the reward without discount\u001b[0m\u001b[1;33m\u001b[0m\u001b[1;33m\u001b[0m\u001b[1;33m\u001b[0m\u001b[0m\n\u001b[1;32m--> 263\u001b[1;33m                 \u001b[0mrollout\u001b[0m \u001b[1;33m=\u001b[0m \u001b[0mself\u001b[0m\u001b[1;33m.\u001b[0m\u001b[0mrunner\u001b[0m\u001b[1;33m.\u001b[0m\u001b[0mrun\u001b[0m\u001b[1;33m(\u001b[0m\u001b[0mcallback\u001b[0m\u001b[1;33m)\u001b[0m\u001b[1;33m\u001b[0m\u001b[1;33m\u001b[0m\u001b[0m\n\u001b[0m\u001b[0;32m    264\u001b[0m                 \u001b[1;31m# unpack\u001b[0m\u001b[1;33m\u001b[0m\u001b[1;33m\u001b[0m\u001b[1;33m\u001b[0m\u001b[0m\n\u001b[0;32m    265\u001b[0m                 \u001b[0mobs\u001b[0m\u001b[1;33m,\u001b[0m \u001b[0mstates\u001b[0m\u001b[1;33m,\u001b[0m \u001b[0mrewards\u001b[0m\u001b[1;33m,\u001b[0m \u001b[0mmasks\u001b[0m\u001b[1;33m,\u001b[0m \u001b[0mactions\u001b[0m\u001b[1;33m,\u001b[0m \u001b[0mvalues\u001b[0m\u001b[1;33m,\u001b[0m \u001b[0mep_infos\u001b[0m\u001b[1;33m,\u001b[0m \u001b[0mtrue_reward\u001b[0m \u001b[1;33m=\u001b[0m \u001b[0mrollout\u001b[0m\u001b[1;33m\u001b[0m\u001b[1;33m\u001b[0m\u001b[0m\n",
      "\u001b[1;32m~\\.conda\\envs\\tf\\lib\\site-packages\\stable_baselines\\common\\runners.py\u001b[0m in \u001b[0;36mrun\u001b[1;34m(self, callback)\u001b[0m\n\u001b[0;32m     46\u001b[0m         \u001b[0mself\u001b[0m\u001b[1;33m.\u001b[0m\u001b[0mcallback\u001b[0m \u001b[1;33m=\u001b[0m \u001b[0mcallback\u001b[0m\u001b[1;33m\u001b[0m\u001b[1;33m\u001b[0m\u001b[0m\n\u001b[0;32m     47\u001b[0m         \u001b[0mself\u001b[0m\u001b[1;33m.\u001b[0m\u001b[0mcontinue_training\u001b[0m \u001b[1;33m=\u001b[0m \u001b[1;32mTrue\u001b[0m\u001b[1;33m\u001b[0m\u001b[1;33m\u001b[0m\u001b[0m\n\u001b[1;32m---> 48\u001b[1;33m         \u001b[1;32mreturn\u001b[0m \u001b[0mself\u001b[0m\u001b[1;33m.\u001b[0m\u001b[0m_run\u001b[0m\u001b[1;33m(\u001b[0m\u001b[1;33m)\u001b[0m\u001b[1;33m\u001b[0m\u001b[1;33m\u001b[0m\u001b[0m\n\u001b[0m\u001b[0;32m     49\u001b[0m \u001b[1;33m\u001b[0m\u001b[0m\n\u001b[0;32m     50\u001b[0m     \u001b[1;33m@\u001b[0m\u001b[0mabstractmethod\u001b[0m\u001b[1;33m\u001b[0m\u001b[1;33m\u001b[0m\u001b[0m\n",
      "\u001b[1;32m~\\.conda\\envs\\tf\\lib\\site-packages\\stable_baselines\\a2c\\a2c.py\u001b[0m in \u001b[0;36m_run\u001b[1;34m(self)\u001b[0m\n\u001b[0;32m    350\u001b[0m         \u001b[0mep_infos\u001b[0m \u001b[1;33m=\u001b[0m \u001b[1;33m[\u001b[0m\u001b[1;33m]\u001b[0m\u001b[1;33m\u001b[0m\u001b[1;33m\u001b[0m\u001b[0m\n\u001b[0;32m    351\u001b[0m         \u001b[1;32mfor\u001b[0m \u001b[0m_\u001b[0m \u001b[1;32min\u001b[0m \u001b[0mrange\u001b[0m\u001b[1;33m(\u001b[0m\u001b[0mself\u001b[0m\u001b[1;33m.\u001b[0m\u001b[0mn_steps\u001b[0m\u001b[1;33m)\u001b[0m\u001b[1;33m:\u001b[0m\u001b[1;33m\u001b[0m\u001b[1;33m\u001b[0m\u001b[0m\n\u001b[1;32m--> 352\u001b[1;33m             \u001b[0mactions\u001b[0m\u001b[1;33m,\u001b[0m \u001b[0mvalues\u001b[0m\u001b[1;33m,\u001b[0m \u001b[0mstates\u001b[0m\u001b[1;33m,\u001b[0m \u001b[0m_\u001b[0m \u001b[1;33m=\u001b[0m \u001b[0mself\u001b[0m\u001b[1;33m.\u001b[0m\u001b[0mmodel\u001b[0m\u001b[1;33m.\u001b[0m\u001b[0mstep\u001b[0m\u001b[1;33m(\u001b[0m\u001b[0mself\u001b[0m\u001b[1;33m.\u001b[0m\u001b[0mobs\u001b[0m\u001b[1;33m,\u001b[0m \u001b[0mself\u001b[0m\u001b[1;33m.\u001b[0m\u001b[0mstates\u001b[0m\u001b[1;33m,\u001b[0m \u001b[0mself\u001b[0m\u001b[1;33m.\u001b[0m\u001b[0mdones\u001b[0m\u001b[1;33m)\u001b[0m  \u001b[1;31m# pytype: disable=attribute-error\u001b[0m\u001b[1;33m\u001b[0m\u001b[1;33m\u001b[0m\u001b[0m\n\u001b[0m\u001b[0;32m    353\u001b[0m             \u001b[0mmb_obs\u001b[0m\u001b[1;33m.\u001b[0m\u001b[0mappend\u001b[0m\u001b[1;33m(\u001b[0m\u001b[0mnp\u001b[0m\u001b[1;33m.\u001b[0m\u001b[0mcopy\u001b[0m\u001b[1;33m(\u001b[0m\u001b[0mself\u001b[0m\u001b[1;33m.\u001b[0m\u001b[0mobs\u001b[0m\u001b[1;33m)\u001b[0m\u001b[1;33m)\u001b[0m\u001b[1;33m\u001b[0m\u001b[1;33m\u001b[0m\u001b[0m\n\u001b[0;32m    354\u001b[0m             \u001b[0mmb_actions\u001b[0m\u001b[1;33m.\u001b[0m\u001b[0mappend\u001b[0m\u001b[1;33m(\u001b[0m\u001b[0mactions\u001b[0m\u001b[1;33m)\u001b[0m\u001b[1;33m\u001b[0m\u001b[1;33m\u001b[0m\u001b[0m\n",
      "\u001b[1;32m~\\.conda\\envs\\tf\\lib\\site-packages\\stable_baselines\\common\\policies.py\u001b[0m in \u001b[0;36mstep\u001b[1;34m(self, obs, state, mask, deterministic)\u001b[0m\n\u001b[0;32m    506\u001b[0m         \u001b[1;32melse\u001b[0m\u001b[1;33m:\u001b[0m\u001b[1;33m\u001b[0m\u001b[1;33m\u001b[0m\u001b[0m\n\u001b[0;32m    507\u001b[0m             return self.sess.run([self.action, self.value_flat, self.snew, self.neglogp],\n\u001b[1;32m--> 508\u001b[1;33m                                  {self.obs_ph: obs, self.states_ph: state, self.dones_ph: mask})\n\u001b[0m\u001b[0;32m    509\u001b[0m \u001b[1;33m\u001b[0m\u001b[0m\n\u001b[0;32m    510\u001b[0m     \u001b[1;32mdef\u001b[0m \u001b[0mproba_step\u001b[0m\u001b[1;33m(\u001b[0m\u001b[0mself\u001b[0m\u001b[1;33m,\u001b[0m \u001b[0mobs\u001b[0m\u001b[1;33m,\u001b[0m \u001b[0mstate\u001b[0m\u001b[1;33m=\u001b[0m\u001b[1;32mNone\u001b[0m\u001b[1;33m,\u001b[0m \u001b[0mmask\u001b[0m\u001b[1;33m=\u001b[0m\u001b[1;32mNone\u001b[0m\u001b[1;33m)\u001b[0m\u001b[1;33m:\u001b[0m\u001b[1;33m\u001b[0m\u001b[1;33m\u001b[0m\u001b[0m\n",
      "\u001b[1;32m~\\.conda\\envs\\tf\\lib\\site-packages\\tensorflow_core\\python\\client\\session.py\u001b[0m in \u001b[0;36mrun\u001b[1;34m(self, fetches, feed_dict, options, run_metadata)\u001b[0m\n\u001b[0;32m    954\u001b[0m     \u001b[1;32mtry\u001b[0m\u001b[1;33m:\u001b[0m\u001b[1;33m\u001b[0m\u001b[1;33m\u001b[0m\u001b[0m\n\u001b[0;32m    955\u001b[0m       result = self._run(None, fetches, feed_dict, options_ptr,\n\u001b[1;32m--> 956\u001b[1;33m                          run_metadata_ptr)\n\u001b[0m\u001b[0;32m    957\u001b[0m       \u001b[1;32mif\u001b[0m \u001b[0mrun_metadata\u001b[0m\u001b[1;33m:\u001b[0m\u001b[1;33m\u001b[0m\u001b[1;33m\u001b[0m\u001b[0m\n\u001b[0;32m    958\u001b[0m         \u001b[0mproto_data\u001b[0m \u001b[1;33m=\u001b[0m \u001b[0mtf_session\u001b[0m\u001b[1;33m.\u001b[0m\u001b[0mTF_GetBuffer\u001b[0m\u001b[1;33m(\u001b[0m\u001b[0mrun_metadata_ptr\u001b[0m\u001b[1;33m)\u001b[0m\u001b[1;33m\u001b[0m\u001b[1;33m\u001b[0m\u001b[0m\n",
      "\u001b[1;32m~\\.conda\\envs\\tf\\lib\\site-packages\\tensorflow_core\\python\\client\\session.py\u001b[0m in \u001b[0;36m_run\u001b[1;34m(self, handle, fetches, feed_dict, options, run_metadata)\u001b[0m\n\u001b[0;32m   1178\u001b[0m     \u001b[1;32mif\u001b[0m \u001b[0mfinal_fetches\u001b[0m \u001b[1;32mor\u001b[0m \u001b[0mfinal_targets\u001b[0m \u001b[1;32mor\u001b[0m \u001b[1;33m(\u001b[0m\u001b[0mhandle\u001b[0m \u001b[1;32mand\u001b[0m \u001b[0mfeed_dict_tensor\u001b[0m\u001b[1;33m)\u001b[0m\u001b[1;33m:\u001b[0m\u001b[1;33m\u001b[0m\u001b[1;33m\u001b[0m\u001b[0m\n\u001b[0;32m   1179\u001b[0m       results = self._do_run(handle, final_targets, final_fetches,\n\u001b[1;32m-> 1180\u001b[1;33m                              feed_dict_tensor, options, run_metadata)\n\u001b[0m\u001b[0;32m   1181\u001b[0m     \u001b[1;32melse\u001b[0m\u001b[1;33m:\u001b[0m\u001b[1;33m\u001b[0m\u001b[1;33m\u001b[0m\u001b[0m\n\u001b[0;32m   1182\u001b[0m       \u001b[0mresults\u001b[0m \u001b[1;33m=\u001b[0m \u001b[1;33m[\u001b[0m\u001b[1;33m]\u001b[0m\u001b[1;33m\u001b[0m\u001b[1;33m\u001b[0m\u001b[0m\n",
      "\u001b[1;32m~\\.conda\\envs\\tf\\lib\\site-packages\\tensorflow_core\\python\\client\\session.py\u001b[0m in \u001b[0;36m_do_run\u001b[1;34m(self, handle, target_list, fetch_list, feed_dict, options, run_metadata)\u001b[0m\n\u001b[0;32m   1357\u001b[0m     \u001b[1;32mif\u001b[0m \u001b[0mhandle\u001b[0m \u001b[1;32mis\u001b[0m \u001b[1;32mNone\u001b[0m\u001b[1;33m:\u001b[0m\u001b[1;33m\u001b[0m\u001b[1;33m\u001b[0m\u001b[0m\n\u001b[0;32m   1358\u001b[0m       return self._do_call(_run_fn, feeds, fetches, targets, options,\n\u001b[1;32m-> 1359\u001b[1;33m                            run_metadata)\n\u001b[0m\u001b[0;32m   1360\u001b[0m     \u001b[1;32melse\u001b[0m\u001b[1;33m:\u001b[0m\u001b[1;33m\u001b[0m\u001b[1;33m\u001b[0m\u001b[0m\n\u001b[0;32m   1361\u001b[0m       \u001b[1;32mreturn\u001b[0m \u001b[0mself\u001b[0m\u001b[1;33m.\u001b[0m\u001b[0m_do_call\u001b[0m\u001b[1;33m(\u001b[0m\u001b[0m_prun_fn\u001b[0m\u001b[1;33m,\u001b[0m \u001b[0mhandle\u001b[0m\u001b[1;33m,\u001b[0m \u001b[0mfeeds\u001b[0m\u001b[1;33m,\u001b[0m \u001b[0mfetches\u001b[0m\u001b[1;33m)\u001b[0m\u001b[1;33m\u001b[0m\u001b[1;33m\u001b[0m\u001b[0m\n",
      "\u001b[1;32m~\\.conda\\envs\\tf\\lib\\site-packages\\tensorflow_core\\python\\client\\session.py\u001b[0m in \u001b[0;36m_do_call\u001b[1;34m(self, fn, *args)\u001b[0m\n\u001b[0;32m   1363\u001b[0m   \u001b[1;32mdef\u001b[0m \u001b[0m_do_call\u001b[0m\u001b[1;33m(\u001b[0m\u001b[0mself\u001b[0m\u001b[1;33m,\u001b[0m \u001b[0mfn\u001b[0m\u001b[1;33m,\u001b[0m \u001b[1;33m*\u001b[0m\u001b[0margs\u001b[0m\u001b[1;33m)\u001b[0m\u001b[1;33m:\u001b[0m\u001b[1;33m\u001b[0m\u001b[1;33m\u001b[0m\u001b[0m\n\u001b[0;32m   1364\u001b[0m     \u001b[1;32mtry\u001b[0m\u001b[1;33m:\u001b[0m\u001b[1;33m\u001b[0m\u001b[1;33m\u001b[0m\u001b[0m\n\u001b[1;32m-> 1365\u001b[1;33m       \u001b[1;32mreturn\u001b[0m \u001b[0mfn\u001b[0m\u001b[1;33m(\u001b[0m\u001b[1;33m*\u001b[0m\u001b[0margs\u001b[0m\u001b[1;33m)\u001b[0m\u001b[1;33m\u001b[0m\u001b[1;33m\u001b[0m\u001b[0m\n\u001b[0m\u001b[0;32m   1366\u001b[0m     \u001b[1;32mexcept\u001b[0m \u001b[0merrors\u001b[0m\u001b[1;33m.\u001b[0m\u001b[0mOpError\u001b[0m \u001b[1;32mas\u001b[0m \u001b[0me\u001b[0m\u001b[1;33m:\u001b[0m\u001b[1;33m\u001b[0m\u001b[1;33m\u001b[0m\u001b[0m\n\u001b[0;32m   1367\u001b[0m       \u001b[0mmessage\u001b[0m \u001b[1;33m=\u001b[0m \u001b[0mcompat\u001b[0m\u001b[1;33m.\u001b[0m\u001b[0mas_text\u001b[0m\u001b[1;33m(\u001b[0m\u001b[0me\u001b[0m\u001b[1;33m.\u001b[0m\u001b[0mmessage\u001b[0m\u001b[1;33m)\u001b[0m\u001b[1;33m\u001b[0m\u001b[1;33m\u001b[0m\u001b[0m\n",
      "\u001b[1;32m~\\.conda\\envs\\tf\\lib\\site-packages\\tensorflow_core\\python\\client\\session.py\u001b[0m in \u001b[0;36m_run_fn\u001b[1;34m(feed_dict, fetch_list, target_list, options, run_metadata)\u001b[0m\n\u001b[0;32m   1348\u001b[0m       \u001b[0mself\u001b[0m\u001b[1;33m.\u001b[0m\u001b[0m_extend_graph\u001b[0m\u001b[1;33m(\u001b[0m\u001b[1;33m)\u001b[0m\u001b[1;33m\u001b[0m\u001b[1;33m\u001b[0m\u001b[0m\n\u001b[0;32m   1349\u001b[0m       return self._call_tf_sessionrun(options, feed_dict, fetch_list,\n\u001b[1;32m-> 1350\u001b[1;33m                                       target_list, run_metadata)\n\u001b[0m\u001b[0;32m   1351\u001b[0m \u001b[1;33m\u001b[0m\u001b[0m\n\u001b[0;32m   1352\u001b[0m     \u001b[1;32mdef\u001b[0m \u001b[0m_prun_fn\u001b[0m\u001b[1;33m(\u001b[0m\u001b[0mhandle\u001b[0m\u001b[1;33m,\u001b[0m \u001b[0mfeed_dict\u001b[0m\u001b[1;33m,\u001b[0m \u001b[0mfetch_list\u001b[0m\u001b[1;33m)\u001b[0m\u001b[1;33m:\u001b[0m\u001b[1;33m\u001b[0m\u001b[1;33m\u001b[0m\u001b[0m\n",
      "\u001b[1;32m~\\.conda\\envs\\tf\\lib\\site-packages\\tensorflow_core\\python\\client\\session.py\u001b[0m in \u001b[0;36m_call_tf_sessionrun\u001b[1;34m(self, options, feed_dict, fetch_list, target_list, run_metadata)\u001b[0m\n\u001b[0;32m   1441\u001b[0m     return tf_session.TF_SessionRun_wrapper(self._session, options, feed_dict,\n\u001b[0;32m   1442\u001b[0m                                             \u001b[0mfetch_list\u001b[0m\u001b[1;33m,\u001b[0m \u001b[0mtarget_list\u001b[0m\u001b[1;33m,\u001b[0m\u001b[1;33m\u001b[0m\u001b[1;33m\u001b[0m\u001b[0m\n\u001b[1;32m-> 1443\u001b[1;33m                                             run_metadata)\n\u001b[0m\u001b[0;32m   1444\u001b[0m \u001b[1;33m\u001b[0m\u001b[0m\n\u001b[0;32m   1445\u001b[0m   \u001b[1;32mdef\u001b[0m \u001b[0m_call_tf_sessionprun\u001b[0m\u001b[1;33m(\u001b[0m\u001b[0mself\u001b[0m\u001b[1;33m,\u001b[0m \u001b[0mhandle\u001b[0m\u001b[1;33m,\u001b[0m \u001b[0mfeed_dict\u001b[0m\u001b[1;33m,\u001b[0m \u001b[0mfetch_list\u001b[0m\u001b[1;33m)\u001b[0m\u001b[1;33m:\u001b[0m\u001b[1;33m\u001b[0m\u001b[1;33m\u001b[0m\u001b[0m\n",
      "\u001b[1;31mKeyboardInterrupt\u001b[0m: "
     ]
    }
   ],
   "source": [
    "# we are going to start training our RL agent\n",
    "# basically means we are going to be using a deep neural network with LSTM layer. it allows our neural layer to keep context and learn about previous history in its neurons\n",
    "# will take account what happened in the previous windows to account the future best action\n",
    "\n",
    "model = A2C('MlpLstmPolicy', env, verbose=1) # then passing through the policy, in this case we are using a multi layer perceptron LSTM policy \n",
    "model.learn(total_timesteps=1000000) #start training\n",
    "\n",
    "# explained varience value should be high (btw 0 and 1), means that model began to learn about all the diff varience in the data set and is now learning the pattern"
   ]
  },
  {
   "cell_type": "markdown",
   "id": "e84bba14",
   "metadata": {},
   "source": [
    "# 4. Evaluation and Result"
   ]
  },
  {
   "cell_type": "code",
   "execution_count": 36,
   "id": "10cebdb4",
   "metadata": {},
   "outputs": [
    {
     "name": "stdout",
     "output_type": "stream",
     "text": [
      "info {'total_reward': 3.0199999999999996, 'total_profit': 1.338362290388335, 'position': 1}\n"
     ]
    }
   ],
   "source": [
    "env = gym.make('stocks-v0', df=df, frame_bound=(90,117), window_size=5)\n",
    "obs = env.reset()\n",
    "while True: \n",
    "    obs = obs[np.newaxis, ...]\n",
    "    action, _states = model.predict(obs)\n",
    "    obs, rewards, done, info = env.step(action)\n",
    "    if done:\n",
    "        print(\"info\", info)\n",
    "        break"
   ]
  },
  {
   "cell_type": "code",
   "execution_count": 37,
   "id": "8bf0547c",
   "metadata": {},
   "outputs": [
    {
     "data": {
      "text/plain": [
       "array([11.49, 11.86, 11.45, 10.91, 11.57, 10.75, 10.47, 11.73, 11.82,\n",
       "       12.69, 13.45, 15.  , 14.91, 14.1 , 13.86, 13.91, 13.31, 13.83,\n",
       "       12.25, 11.88, 11.8 , 12.02, 13.49,  9.36,  9.13,  9.46,  9.39,\n",
       "        9.77, 10.2 , 10.35, 10.09, 10.02])"
      ]
     },
     "execution_count": 37,
     "metadata": {},
     "output_type": "execute_result"
    }
   ],
   "source": [
    "env.prices"
   ]
  },
  {
   "cell_type": "code",
   "execution_count": 38,
   "id": "4e19087e",
   "metadata": {},
   "outputs": [
    {
     "data": {
      "image/png": "[encoded data removed]",
      "text/plain": [
       "<Figure size 1080x432 with 1 Axes>"
      ]
     },
     "metadata": {
      "needs_background": "light"
     },
     "output_type": "display_data"
    }
   ],
   "source": [
    "# we have made a 33% profit as we can use\n",
    "\n",
    "\n",
    "plt.figure(figsize=(15,6)) # plot the data \n",
    "plt.cla()\n",
    "env.render_all()\n",
    "plt.show()"
   ]
  },
  {
   "cell_type": "markdown",
   "id": "cbbc5b69",
   "metadata": {},
   "source": [
    "# Comments -"
   ]
  },
  {
   "cell_type": "code",
   "execution_count": null,
   "id": "c14d0c97",
   "metadata": {},
   "outputs": [],
   "source": [
    "# State Space\n",
    "# Performance with different Policy\n",
    "# Cell 66 Y - Axis and X - Axis  \n",
    "\n",
    "# answers\n",
    "\n",
    "# Y axis represents close price\n",
    "#\"Closing price\" generally refers to the last price at which a stock trades during a regular trading session.\n",
    "#state space S is a set of all the states that the agent can transition to and action space A is a set of all actions the agent can act out in a certain environment."
   ]
  },
  {
   "cell_type": "code",
   "execution_count": null,
   "id": "bacbb426",
   "metadata": {},
   "outputs": [],
   "source": [
    "#ref\n",
    "\n",
    "\n",
    "\n",
    "# we are making a new environment \n",
    "# instead of taking random actions we are taking our model and predicting which action it should take\n",
    "\n",
    "\n",
    "#env = gym.make('stocks-v0', df=df, frame_bound=(90,91), window_size=5) # frame bound some overlap is there\n",
    "#obs = env.reset()\n",
    "#while True: \n",
    "    #obs = obs[np.newaxis, ...] # we are re-shaping it using numpy to work with a non vectorised environment\n",
    "    #action, _states = model.predict(obs) # passing it into model.predict func, taking what our current environment looks like and generating a prediction\n",
    "    #obs, rewards, done, info = env.step(action) # we are getting our action and states and we are taking that to our environment to see the results\n",
    "    #if done:  # break loop when done and display the information\n",
    "       # print(\"info\", info)\n",
    "        #break"
   ]
  }
 ],
 "metadata": {
  "kernelspec": {
   "display_name": "Python 3 (ipykernel)",
   "language": "python",
   "name": "python3"
  },
  "language_info": {
   "codemirror_mode": {
    "name": "ipython",
    "version": 3
   },
   "file_extension": ".py",
   "mimetype": "text/x-python",
   "name": "python",
   "nbconvert_exporter": "python",
   "pygments_lexer": "ipython3",
   "version": "3.8.12"
  }
 },
 "nbformat": 4,
 "nbformat_minor": 5
}
